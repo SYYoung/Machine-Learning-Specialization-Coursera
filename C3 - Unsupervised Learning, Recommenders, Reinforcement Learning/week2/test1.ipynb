{
 "cells": [
  {
   "cell_type": "code",
   "execution_count": null,
   "id": "24e8ece7",
   "metadata": {},
   "outputs": [],
   "source": [
    "# cost function J = (wx - 1)**2\n",
    "# Tf.variables are the paraeters we want to optimize\n",
    "w = tf.Variable(3.0)\n",
    "x = 1.0\n",
    "y = 1.0\n",
    "alpha = 0.01"
   ]
  },
  {
   "cell_type": "code",
   "execution_count": 1,
   "id": "1b36a882",
   "metadata": {},
   "outputs": [],
   "source": [
    "iterations = 30"
   ]
  },
  {
   "cell_type": "code",
   "execution_count": null,
   "id": "13bac2c5",
   "metadata": {},
   "outputs": [],
   "source": [
    "for iter in range(iterations):\n",
    "    with tf.Gradientape() as tape:\n",
    "        fwb = w*x\n",
    "        costJ = (fwb - y)**2\n",
    "        \n",
    "    [dJdw] = tape.gradient(costJ, [w])\n",
    "    \n",
    "    # tf.variables require special function to modify\n",
    "    w.assign_add(-alpha * dJdw)"
   ]
  },
  {
   "cell_type": "code",
   "execution_count": null,
   "id": "6fa279ab",
   "metadata": {},
   "outputs": [],
   "source": [
    "optimizer = keras.optimizers.Adam(learning_rate=1e-1)\n",
    "iterations = 200\n",
    "\n",
    "for iter in range(iterations):\n",
    "    with tf.GradientTape() as tape:\n",
    "        cost_value=coftCostFuncV(X, W, b, Ynorm, R, num_users,num_movies,lambda_)\n",
    "    grads = tape.gradient(cost_value, [X, W,b])\n",
    "    optimizer.apply_gradients(zip(grads, [X,W,b])"
   ]
  },
  {
   "cell_type": "code",
   "execution_count": null,
   "id": "84cd6f5a",
   "metadata": {},
   "outputs": [],
   "source": []
  }
 ],
 "metadata": {
  "kernelspec": {
   "display_name": "Python 3.9 (tensorflow)",
   "language": "python",
   "name": "tensorflow"
  },
  "language_info": {
   "codemirror_mode": {
    "name": "ipython",
    "version": 3
   },
   "file_extension": ".py",
   "mimetype": "text/x-python",
   "name": "python",
   "nbconvert_exporter": "python",
   "pygments_lexer": "ipython3",
   "version": "3.9.13"
  }
 },
 "nbformat": 4,
 "nbformat_minor": 5
}
