{
 "cells": [
  {
   "cell_type": "code",
   "execution_count": 1,
   "id": "43feca24",
   "metadata": {},
   "outputs": [],
   "source": [
    "# if error message: Module not found, do following:\n",
    "# %pip install <module-name>"
   ]
  },
  {
   "cell_type": "code",
   "execution_count": 2,
   "id": "79a4de9f",
   "metadata": {},
   "outputs": [],
   "source": [
    "import numpy as np\n",
    "import numpy.ma as ma\n",
    "from numpy import genfromtxt\n",
    "from collections import defaultdict\n",
    "import pandas as pd\n",
    "import tensorflow as tf\n",
    "from tensorflow import keras\n",
    "from sklearn.preprocessing import StandardScaler, MinMaxScaler\n",
    "from sklearn.model_selection import train_test_split\n",
    "from tabulate import tabulate\n",
    "from recsysNN_utils import *\n",
    "pd.set_option(\"display.precision\", 1)"
   ]
  },
  {
   "cell_type": "code",
   "execution_count": 3,
   "id": "cdef960b",
   "metadata": {},
   "outputs": [
    {
     "name": "stdout",
     "output_type": "stream",
     "text": [
      "Number of training vectors: 58187\n"
     ]
    }
   ],
   "source": [
    "# Load Data, set configuration variables\n",
    "item_train, user_train, y_train, item_features, user_features, item_vecs, movie_dict, user_to_genre = load_data()\n",
    "\n",
    "num_user_features = user_train.shape[1] - 3  # remove userid, rating count and ave rating during training\n",
    "num_item_features = item_train.shape[1] - 1  # remove movie id at train time\n",
    "uvs = 3  # user genre vector start\n",
    "ivs = 3  # item genre vector start\n",
    "u_s = 3  # start of columns to use in training, user\n",
    "i_s = 1  # start of columns to use in training, items\n",
    "scaledata = True  # applies the standard scalar to data if true\n",
    "print(f\"Number of training vectors: {len(item_train)}\")"
   ]
  },
  {
   "cell_type": "code",
   "execution_count": 4,
   "id": "8a348e0d",
   "metadata": {},
   "outputs": [
    {
     "data": {
      "text/html": [
       "<table>\n",
       "<thead>\n",
       "<tr><th style=\"text-align: center;\"> [user id] </th><th style=\"text-align: center;\"> [rating count] </th><th style=\"text-align: center;\"> [rating ave] </th><th style=\"text-align: center;\"> Act ion </th><th style=\"text-align: center;\"> Adve nture </th><th style=\"text-align: center;\"> Anim ation </th><th style=\"text-align: center;\"> Chil dren </th><th style=\"text-align: center;\"> Com edy </th><th style=\"text-align: center;\"> Crime </th><th style=\"text-align: center;\"> Docum entary </th><th style=\"text-align: center;\"> Drama </th><th style=\"text-align: center;\"> Fan tasy </th><th style=\"text-align: center;\"> Hor ror </th><th style=\"text-align: center;\"> Mys tery </th><th style=\"text-align: center;\"> Rom ance </th><th style=\"text-align: center;\"> Sci -Fi </th><th style=\"text-align: center;\"> Thri ller </th></tr>\n",
       "</thead>\n",
       "<tbody>\n",
       "<tr><td style=\"text-align: center;\">     2     </td><td style=\"text-align: center;\">       16       </td><td style=\"text-align: center;\">     4.1      </td><td style=\"text-align: center;\">   3.9   </td><td style=\"text-align: center;\">    5.0     </td><td style=\"text-align: center;\">    0.0     </td><td style=\"text-align: center;\">    0.0    </td><td style=\"text-align: center;\">   4.0   </td><td style=\"text-align: center;\">  4.2  </td><td style=\"text-align: center;\">     4.0      </td><td style=\"text-align: center;\">  4.0  </td><td style=\"text-align: center;\">   0.0    </td><td style=\"text-align: center;\">   3.0   </td><td style=\"text-align: center;\">   4.0    </td><td style=\"text-align: center;\">   0.0    </td><td style=\"text-align: center;\">   4.2   </td><td style=\"text-align: center;\">    3.9    </td></tr>\n",
       "<tr><td style=\"text-align: center;\">     2     </td><td style=\"text-align: center;\">       16       </td><td style=\"text-align: center;\">     4.1      </td><td style=\"text-align: center;\">   3.9   </td><td style=\"text-align: center;\">    5.0     </td><td style=\"text-align: center;\">    0.0     </td><td style=\"text-align: center;\">    0.0    </td><td style=\"text-align: center;\">   4.0   </td><td style=\"text-align: center;\">  4.2  </td><td style=\"text-align: center;\">     4.0      </td><td style=\"text-align: center;\">  4.0  </td><td style=\"text-align: center;\">   0.0    </td><td style=\"text-align: center;\">   3.0   </td><td style=\"text-align: center;\">   4.0    </td><td style=\"text-align: center;\">   0.0    </td><td style=\"text-align: center;\">   4.2   </td><td style=\"text-align: center;\">    3.9    </td></tr>\n",
       "<tr><td style=\"text-align: center;\">     2     </td><td style=\"text-align: center;\">       16       </td><td style=\"text-align: center;\">     4.1      </td><td style=\"text-align: center;\">   3.9   </td><td style=\"text-align: center;\">    5.0     </td><td style=\"text-align: center;\">    0.0     </td><td style=\"text-align: center;\">    0.0    </td><td style=\"text-align: center;\">   4.0   </td><td style=\"text-align: center;\">  4.2  </td><td style=\"text-align: center;\">     4.0      </td><td style=\"text-align: center;\">  4.0  </td><td style=\"text-align: center;\">   0.0    </td><td style=\"text-align: center;\">   3.0   </td><td style=\"text-align: center;\">   4.0    </td><td style=\"text-align: center;\">   0.0    </td><td style=\"text-align: center;\">   4.2   </td><td style=\"text-align: center;\">    3.9    </td></tr>\n",
       "<tr><td style=\"text-align: center;\">     2     </td><td style=\"text-align: center;\">       16       </td><td style=\"text-align: center;\">     4.1      </td><td style=\"text-align: center;\">   3.9   </td><td style=\"text-align: center;\">    5.0     </td><td style=\"text-align: center;\">    0.0     </td><td style=\"text-align: center;\">    0.0    </td><td style=\"text-align: center;\">   4.0   </td><td style=\"text-align: center;\">  4.2  </td><td style=\"text-align: center;\">     4.0      </td><td style=\"text-align: center;\">  4.0  </td><td style=\"text-align: center;\">   0.0    </td><td style=\"text-align: center;\">   3.0   </td><td style=\"text-align: center;\">   4.0    </td><td style=\"text-align: center;\">   0.0    </td><td style=\"text-align: center;\">   4.2   </td><td style=\"text-align: center;\">    3.9    </td></tr>\n",
       "<tr><td style=\"text-align: center;\">     2     </td><td style=\"text-align: center;\">       16       </td><td style=\"text-align: center;\">     4.1      </td><td style=\"text-align: center;\">   3.9   </td><td style=\"text-align: center;\">    5.0     </td><td style=\"text-align: center;\">    0.0     </td><td style=\"text-align: center;\">    0.0    </td><td style=\"text-align: center;\">   4.0   </td><td style=\"text-align: center;\">  4.2  </td><td style=\"text-align: center;\">     4.0      </td><td style=\"text-align: center;\">  4.0  </td><td style=\"text-align: center;\">   0.0    </td><td style=\"text-align: center;\">   3.0   </td><td style=\"text-align: center;\">   4.0    </td><td style=\"text-align: center;\">   0.0    </td><td style=\"text-align: center;\">   4.2   </td><td style=\"text-align: center;\">    3.9    </td></tr>\n",
       "<tr><td style=\"text-align: center;\">     2     </td><td style=\"text-align: center;\">       16       </td><td style=\"text-align: center;\">     4.1      </td><td style=\"text-align: center;\">   3.9   </td><td style=\"text-align: center;\">    5.0     </td><td style=\"text-align: center;\">    0.0     </td><td style=\"text-align: center;\">    0.0    </td><td style=\"text-align: center;\">   4.0   </td><td style=\"text-align: center;\">  4.2  </td><td style=\"text-align: center;\">     4.0      </td><td style=\"text-align: center;\">  4.0  </td><td style=\"text-align: center;\">   0.0    </td><td style=\"text-align: center;\">   3.0   </td><td style=\"text-align: center;\">   4.0    </td><td style=\"text-align: center;\">   0.0    </td><td style=\"text-align: center;\">   4.2   </td><td style=\"text-align: center;\">    3.9    </td></tr>\n",
       "<tr><td style=\"text-align: center;\">     2     </td><td style=\"text-align: center;\">       16       </td><td style=\"text-align: center;\">     4.1      </td><td style=\"text-align: center;\">   3.9   </td><td style=\"text-align: center;\">    5.0     </td><td style=\"text-align: center;\">    0.0     </td><td style=\"text-align: center;\">    0.0    </td><td style=\"text-align: center;\">   4.0   </td><td style=\"text-align: center;\">  4.2  </td><td style=\"text-align: center;\">     4.0      </td><td style=\"text-align: center;\">  4.0  </td><td style=\"text-align: center;\">   0.0    </td><td style=\"text-align: center;\">   3.0   </td><td style=\"text-align: center;\">   4.0    </td><td style=\"text-align: center;\">   0.0    </td><td style=\"text-align: center;\">   4.2   </td><td style=\"text-align: center;\">    3.9    </td></tr>\n",
       "<tr><td style=\"text-align: center;\">     2     </td><td style=\"text-align: center;\">       16       </td><td style=\"text-align: center;\">     4.1      </td><td style=\"text-align: center;\">   3.9   </td><td style=\"text-align: center;\">    5.0     </td><td style=\"text-align: center;\">    0.0     </td><td style=\"text-align: center;\">    0.0    </td><td style=\"text-align: center;\">   4.0   </td><td style=\"text-align: center;\">  4.2  </td><td style=\"text-align: center;\">     4.0      </td><td style=\"text-align: center;\">  4.0  </td><td style=\"text-align: center;\">   0.0    </td><td style=\"text-align: center;\">   3.0   </td><td style=\"text-align: center;\">   4.0    </td><td style=\"text-align: center;\">   0.0    </td><td style=\"text-align: center;\">   4.2   </td><td style=\"text-align: center;\">    3.9    </td></tr>\n",
       "<tr><td style=\"text-align: center;\">     2     </td><td style=\"text-align: center;\">       16       </td><td style=\"text-align: center;\">     4.1      </td><td style=\"text-align: center;\">   3.9   </td><td style=\"text-align: center;\">    5.0     </td><td style=\"text-align: center;\">    0.0     </td><td style=\"text-align: center;\">    0.0    </td><td style=\"text-align: center;\">   4.0   </td><td style=\"text-align: center;\">  4.2  </td><td style=\"text-align: center;\">     4.0      </td><td style=\"text-align: center;\">  4.0  </td><td style=\"text-align: center;\">   0.0    </td><td style=\"text-align: center;\">   3.0   </td><td style=\"text-align: center;\">   4.0    </td><td style=\"text-align: center;\">   0.0    </td><td style=\"text-align: center;\">   4.2   </td><td style=\"text-align: center;\">    3.9    </td></tr>\n",
       "<tr><td style=\"text-align: center;\">     2     </td><td style=\"text-align: center;\">       16       </td><td style=\"text-align: center;\">     4.1      </td><td style=\"text-align: center;\">   3.9   </td><td style=\"text-align: center;\">    5.0     </td><td style=\"text-align: center;\">    0.0     </td><td style=\"text-align: center;\">    0.0    </td><td style=\"text-align: center;\">   4.0   </td><td style=\"text-align: center;\">  4.2  </td><td style=\"text-align: center;\">     4.0      </td><td style=\"text-align: center;\">  4.0  </td><td style=\"text-align: center;\">   0.0    </td><td style=\"text-align: center;\">   3.0   </td><td style=\"text-align: center;\">   4.0    </td><td style=\"text-align: center;\">   0.0    </td><td style=\"text-align: center;\">   4.2   </td><td style=\"text-align: center;\">    3.9    </td></tr>\n",
       "</tbody>\n",
       "</table>"
      ],
      "text/plain": [
       "'<table>\\n<thead>\\n<tr><th style=\"text-align: center;\"> [user id] </th><th style=\"text-align: center;\"> [rating count] </th><th style=\"text-align: center;\"> [rating ave] </th><th style=\"text-align: center;\"> Act ion </th><th style=\"text-align: center;\"> Adve nture </th><th style=\"text-align: center;\"> Anim ation </th><th style=\"text-align: center;\"> Chil dren </th><th style=\"text-align: center;\"> Com edy </th><th style=\"text-align: center;\"> Crime </th><th style=\"text-align: center;\"> Docum entary </th><th style=\"text-align: center;\"> Drama </th><th style=\"text-align: center;\"> Fan tasy </th><th style=\"text-align: center;\"> Hor ror </th><th style=\"text-align: center;\"> Mys tery </th><th style=\"text-align: center;\"> Rom ance </th><th style=\"text-align: center;\"> Sci -Fi </th><th style=\"text-align: center;\"> Thri ller </th></tr>\\n</thead>\\n<tbody>\\n<tr><td style=\"text-align: center;\">     2     </td><td style=\"text-align: center;\">       16       </td><td style=\"text-align: center;\">     4.1      </td><td style=\"text-align: center;\">   3.9   </td><td style=\"text-align: center;\">    5.0     </td><td style=\"text-align: center;\">    0.0     </td><td style=\"text-align: center;\">    0.0    </td><td style=\"text-align: center;\">   4.0   </td><td style=\"text-align: center;\">  4.2  </td><td style=\"text-align: center;\">     4.0      </td><td style=\"text-align: center;\">  4.0  </td><td style=\"text-align: center;\">   0.0    </td><td style=\"text-align: center;\">   3.0   </td><td style=\"text-align: center;\">   4.0    </td><td style=\"text-align: center;\">   0.0    </td><td style=\"text-align: center;\">   4.2   </td><td style=\"text-align: center;\">    3.9    </td></tr>\\n<tr><td style=\"text-align: center;\">     2     </td><td style=\"text-align: center;\">       16       </td><td style=\"text-align: center;\">     4.1      </td><td style=\"text-align: center;\">   3.9   </td><td style=\"text-align: center;\">    5.0     </td><td style=\"text-align: center;\">    0.0     </td><td style=\"text-align: center;\">    0.0    </td><td style=\"text-align: center;\">   4.0   </td><td style=\"text-align: center;\">  4.2  </td><td style=\"text-align: center;\">     4.0      </td><td style=\"text-align: center;\">  4.0  </td><td style=\"text-align: center;\">   0.0    </td><td style=\"text-align: center;\">   3.0   </td><td style=\"text-align: center;\">   4.0    </td><td style=\"text-align: center;\">   0.0    </td><td style=\"text-align: center;\">   4.2   </td><td style=\"text-align: center;\">    3.9    </td></tr>\\n<tr><td style=\"text-align: center;\">     2     </td><td style=\"text-align: center;\">       16       </td><td style=\"text-align: center;\">     4.1      </td><td style=\"text-align: center;\">   3.9   </td><td style=\"text-align: center;\">    5.0     </td><td style=\"text-align: center;\">    0.0     </td><td style=\"text-align: center;\">    0.0    </td><td style=\"text-align: center;\">   4.0   </td><td style=\"text-align: center;\">  4.2  </td><td style=\"text-align: center;\">     4.0      </td><td style=\"text-align: center;\">  4.0  </td><td style=\"text-align: center;\">   0.0    </td><td style=\"text-align: center;\">   3.0   </td><td style=\"text-align: center;\">   4.0    </td><td style=\"text-align: center;\">   0.0    </td><td style=\"text-align: center;\">   4.2   </td><td style=\"text-align: center;\">    3.9    </td></tr>\\n<tr><td style=\"text-align: center;\">     2     </td><td style=\"text-align: center;\">       16       </td><td style=\"text-align: center;\">     4.1      </td><td style=\"text-align: center;\">   3.9   </td><td style=\"text-align: center;\">    5.0     </td><td style=\"text-align: center;\">    0.0     </td><td style=\"text-align: center;\">    0.0    </td><td style=\"text-align: center;\">   4.0   </td><td style=\"text-align: center;\">  4.2  </td><td style=\"text-align: center;\">     4.0      </td><td style=\"text-align: center;\">  4.0  </td><td style=\"text-align: center;\">   0.0    </td><td style=\"text-align: center;\">   3.0   </td><td style=\"text-align: center;\">   4.0    </td><td style=\"text-align: center;\">   0.0    </td><td style=\"text-align: center;\">   4.2   </td><td style=\"text-align: center;\">    3.9    </td></tr>\\n<tr><td style=\"text-align: center;\">     2     </td><td style=\"text-align: center;\">       16       </td><td style=\"text-align: center;\">     4.1      </td><td style=\"text-align: center;\">   3.9   </td><td style=\"text-align: center;\">    5.0     </td><td style=\"text-align: center;\">    0.0     </td><td style=\"text-align: center;\">    0.0    </td><td style=\"text-align: center;\">   4.0   </td><td style=\"text-align: center;\">  4.2  </td><td style=\"text-align: center;\">     4.0      </td><td style=\"text-align: center;\">  4.0  </td><td style=\"text-align: center;\">   0.0    </td><td style=\"text-align: center;\">   3.0   </td><td style=\"text-align: center;\">   4.0    </td><td style=\"text-align: center;\">   0.0    </td><td style=\"text-align: center;\">   4.2   </td><td style=\"text-align: center;\">    3.9    </td></tr>\\n<tr><td style=\"text-align: center;\">     2     </td><td style=\"text-align: center;\">       16       </td><td style=\"text-align: center;\">     4.1      </td><td style=\"text-align: center;\">   3.9   </td><td style=\"text-align: center;\">    5.0     </td><td style=\"text-align: center;\">    0.0     </td><td style=\"text-align: center;\">    0.0    </td><td style=\"text-align: center;\">   4.0   </td><td style=\"text-align: center;\">  4.2  </td><td style=\"text-align: center;\">     4.0      </td><td style=\"text-align: center;\">  4.0  </td><td style=\"text-align: center;\">   0.0    </td><td style=\"text-align: center;\">   3.0   </td><td style=\"text-align: center;\">   4.0    </td><td style=\"text-align: center;\">   0.0    </td><td style=\"text-align: center;\">   4.2   </td><td style=\"text-align: center;\">    3.9    </td></tr>\\n<tr><td style=\"text-align: center;\">     2     </td><td style=\"text-align: center;\">       16       </td><td style=\"text-align: center;\">     4.1      </td><td style=\"text-align: center;\">   3.9   </td><td style=\"text-align: center;\">    5.0     </td><td style=\"text-align: center;\">    0.0     </td><td style=\"text-align: center;\">    0.0    </td><td style=\"text-align: center;\">   4.0   </td><td style=\"text-align: center;\">  4.2  </td><td style=\"text-align: center;\">     4.0      </td><td style=\"text-align: center;\">  4.0  </td><td style=\"text-align: center;\">   0.0    </td><td style=\"text-align: center;\">   3.0   </td><td style=\"text-align: center;\">   4.0    </td><td style=\"text-align: center;\">   0.0    </td><td style=\"text-align: center;\">   4.2   </td><td style=\"text-align: center;\">    3.9    </td></tr>\\n<tr><td style=\"text-align: center;\">     2     </td><td style=\"text-align: center;\">       16       </td><td style=\"text-align: center;\">     4.1      </td><td style=\"text-align: center;\">   3.9   </td><td style=\"text-align: center;\">    5.0     </td><td style=\"text-align: center;\">    0.0     </td><td style=\"text-align: center;\">    0.0    </td><td style=\"text-align: center;\">   4.0   </td><td style=\"text-align: center;\">  4.2  </td><td style=\"text-align: center;\">     4.0      </td><td style=\"text-align: center;\">  4.0  </td><td style=\"text-align: center;\">   0.0    </td><td style=\"text-align: center;\">   3.0   </td><td style=\"text-align: center;\">   4.0    </td><td style=\"text-align: center;\">   0.0    </td><td style=\"text-align: center;\">   4.2   </td><td style=\"text-align: center;\">    3.9    </td></tr>\\n<tr><td style=\"text-align: center;\">     2     </td><td style=\"text-align: center;\">       16       </td><td style=\"text-align: center;\">     4.1      </td><td style=\"text-align: center;\">   3.9   </td><td style=\"text-align: center;\">    5.0     </td><td style=\"text-align: center;\">    0.0     </td><td style=\"text-align: center;\">    0.0    </td><td style=\"text-align: center;\">   4.0   </td><td style=\"text-align: center;\">  4.2  </td><td style=\"text-align: center;\">     4.0      </td><td style=\"text-align: center;\">  4.0  </td><td style=\"text-align: center;\">   0.0    </td><td style=\"text-align: center;\">   3.0   </td><td style=\"text-align: center;\">   4.0    </td><td style=\"text-align: center;\">   0.0    </td><td style=\"text-align: center;\">   4.2   </td><td style=\"text-align: center;\">    3.9    </td></tr>\\n<tr><td style=\"text-align: center;\">     2     </td><td style=\"text-align: center;\">       16       </td><td style=\"text-align: center;\">     4.1      </td><td style=\"text-align: center;\">   3.9   </td><td style=\"text-align: center;\">    5.0     </td><td style=\"text-align: center;\">    0.0     </td><td style=\"text-align: center;\">    0.0    </td><td style=\"text-align: center;\">   4.0   </td><td style=\"text-align: center;\">  4.2  </td><td style=\"text-align: center;\">     4.0      </td><td style=\"text-align: center;\">  4.0  </td><td style=\"text-align: center;\">   0.0    </td><td style=\"text-align: center;\">   3.0   </td><td style=\"text-align: center;\">   4.0    </td><td style=\"text-align: center;\">   0.0    </td><td style=\"text-align: center;\">   4.2   </td><td style=\"text-align: center;\">    3.9    </td></tr>\\n</tbody>\\n</table>'"
      ]
     },
     "execution_count": 4,
     "metadata": {},
     "output_type": "execute_result"
    }
   ],
   "source": [
    "pprint_train(user_train, user_features, uvs, u_s, maxcount=10)"
   ]
  },
  {
   "cell_type": "code",
   "execution_count": 9,
   "id": "e5b0351d",
   "metadata": {},
   "outputs": [
    {
     "data": {
      "text/plain": [
       "39"
      ]
     },
     "execution_count": 9,
     "metadata": {},
     "output_type": "execute_result"
    }
   ],
   "source": [
    "np.sum(user_train[:,0]==2)"
   ]
  },
  {
   "cell_type": "code",
   "execution_count": 10,
   "id": "e5e2ada4",
   "metadata": {},
   "outputs": [
    {
     "data": {
      "text/html": [
       "<table>\n",
       "<thead>\n",
       "<tr><th style=\"text-align: center;\"> [movie id] </th><th style=\"text-align: center;\"> year </th><th style=\"text-align: center;\"> ave rating </th><th style=\"text-align: center;\"> Act ion </th><th style=\"text-align: center;\"> Adve nture </th><th style=\"text-align: center;\"> Anim ation </th><th style=\"text-align: center;\"> Chil dren </th><th style=\"text-align: center;\"> Com edy </th><th style=\"text-align: center;\"> Crime </th><th style=\"text-align: center;\"> Docum entary </th><th style=\"text-align: center;\"> Drama </th><th style=\"text-align: center;\"> Fan tasy </th><th style=\"text-align: center;\"> Hor ror </th><th style=\"text-align: center;\"> Mys tery </th><th style=\"text-align: center;\"> Rom ance </th><th style=\"text-align: center;\"> Sci -Fi </th><th style=\"text-align: center;\"> Thri ller </th></tr>\n",
       "</thead>\n",
       "<tbody>\n",
       "<tr><td style=\"text-align: center;\">    6874    </td><td style=\"text-align: center;\"> 2003 </td><td style=\"text-align: center;\">    4.0     </td><td style=\"text-align: center;\">   1.0   </td><td style=\"text-align: center;\">    0.0     </td><td style=\"text-align: center;\">    0.0     </td><td style=\"text-align: center;\">    0.0    </td><td style=\"text-align: center;\">   0.0   </td><td style=\"text-align: center;\">  0.0  </td><td style=\"text-align: center;\">     0.0      </td><td style=\"text-align: center;\">  0.0  </td><td style=\"text-align: center;\">   0.0    </td><td style=\"text-align: center;\">   0.0   </td><td style=\"text-align: center;\">   0.0    </td><td style=\"text-align: center;\">   0.0    </td><td style=\"text-align: center;\">   0.0   </td><td style=\"text-align: center;\">    0.0    </td></tr>\n",
       "<tr><td style=\"text-align: center;\">    6874    </td><td style=\"text-align: center;\"> 2003 </td><td style=\"text-align: center;\">    4.0     </td><td style=\"text-align: center;\">   0.0   </td><td style=\"text-align: center;\">    0.0     </td><td style=\"text-align: center;\">    0.0     </td><td style=\"text-align: center;\">    0.0    </td><td style=\"text-align: center;\">   0.0   </td><td style=\"text-align: center;\">  1.0  </td><td style=\"text-align: center;\">     0.0      </td><td style=\"text-align: center;\">  0.0  </td><td style=\"text-align: center;\">   0.0    </td><td style=\"text-align: center;\">   0.0   </td><td style=\"text-align: center;\">   0.0    </td><td style=\"text-align: center;\">   0.0    </td><td style=\"text-align: center;\">   0.0   </td><td style=\"text-align: center;\">    0.0    </td></tr>\n",
       "<tr><td style=\"text-align: center;\">    6874    </td><td style=\"text-align: center;\"> 2003 </td><td style=\"text-align: center;\">    4.0     </td><td style=\"text-align: center;\">   0.0   </td><td style=\"text-align: center;\">    0.0     </td><td style=\"text-align: center;\">    0.0     </td><td style=\"text-align: center;\">    0.0    </td><td style=\"text-align: center;\">   0.0   </td><td style=\"text-align: center;\">  0.0  </td><td style=\"text-align: center;\">     0.0      </td><td style=\"text-align: center;\">  0.0  </td><td style=\"text-align: center;\">   0.0    </td><td style=\"text-align: center;\">   0.0   </td><td style=\"text-align: center;\">   0.0    </td><td style=\"text-align: center;\">   0.0    </td><td style=\"text-align: center;\">   0.0   </td><td style=\"text-align: center;\">    1.0    </td></tr>\n",
       "<tr><td style=\"text-align: center;\">    8798    </td><td style=\"text-align: center;\"> 2004 </td><td style=\"text-align: center;\">    3.8     </td><td style=\"text-align: center;\">   1.0   </td><td style=\"text-align: center;\">    0.0     </td><td style=\"text-align: center;\">    0.0     </td><td style=\"text-align: center;\">    0.0    </td><td style=\"text-align: center;\">   0.0   </td><td style=\"text-align: center;\">  0.0  </td><td style=\"text-align: center;\">     0.0      </td><td style=\"text-align: center;\">  0.0  </td><td style=\"text-align: center;\">   0.0    </td><td style=\"text-align: center;\">   0.0   </td><td style=\"text-align: center;\">   0.0    </td><td style=\"text-align: center;\">   0.0    </td><td style=\"text-align: center;\">   0.0   </td><td style=\"text-align: center;\">    0.0    </td></tr>\n",
       "<tr><td style=\"text-align: center;\">    8798    </td><td style=\"text-align: center;\"> 2004 </td><td style=\"text-align: center;\">    3.8     </td><td style=\"text-align: center;\">   0.0   </td><td style=\"text-align: center;\">    0.0     </td><td style=\"text-align: center;\">    0.0     </td><td style=\"text-align: center;\">    0.0    </td><td style=\"text-align: center;\">   0.0   </td><td style=\"text-align: center;\">  1.0  </td><td style=\"text-align: center;\">     0.0      </td><td style=\"text-align: center;\">  0.0  </td><td style=\"text-align: center;\">   0.0    </td><td style=\"text-align: center;\">   0.0   </td><td style=\"text-align: center;\">   0.0    </td><td style=\"text-align: center;\">   0.0    </td><td style=\"text-align: center;\">   0.0   </td><td style=\"text-align: center;\">    0.0    </td></tr>\n",
       "</tbody>\n",
       "</table>"
      ],
      "text/plain": [
       "'<table>\\n<thead>\\n<tr><th style=\"text-align: center;\"> [movie id] </th><th style=\"text-align: center;\"> year </th><th style=\"text-align: center;\"> ave rating </th><th style=\"text-align: center;\"> Act ion </th><th style=\"text-align: center;\"> Adve nture </th><th style=\"text-align: center;\"> Anim ation </th><th style=\"text-align: center;\"> Chil dren </th><th style=\"text-align: center;\"> Com edy </th><th style=\"text-align: center;\"> Crime </th><th style=\"text-align: center;\"> Docum entary </th><th style=\"text-align: center;\"> Drama </th><th style=\"text-align: center;\"> Fan tasy </th><th style=\"text-align: center;\"> Hor ror </th><th style=\"text-align: center;\"> Mys tery </th><th style=\"text-align: center;\"> Rom ance </th><th style=\"text-align: center;\"> Sci -Fi </th><th style=\"text-align: center;\"> Thri ller </th></tr>\\n</thead>\\n<tbody>\\n<tr><td style=\"text-align: center;\">    6874    </td><td style=\"text-align: center;\"> 2003 </td><td style=\"text-align: center;\">    4.0     </td><td style=\"text-align: center;\">   1.0   </td><td style=\"text-align: center;\">    0.0     </td><td style=\"text-align: center;\">    0.0     </td><td style=\"text-align: center;\">    0.0    </td><td style=\"text-align: center;\">   0.0   </td><td style=\"text-align: center;\">  0.0  </td><td style=\"text-align: center;\">     0.0      </td><td style=\"text-align: center;\">  0.0  </td><td style=\"text-align: center;\">   0.0    </td><td style=\"text-align: center;\">   0.0   </td><td style=\"text-align: center;\">   0.0    </td><td style=\"text-align: center;\">   0.0    </td><td style=\"text-align: center;\">   0.0   </td><td style=\"text-align: center;\">    0.0    </td></tr>\\n<tr><td style=\"text-align: center;\">    6874    </td><td style=\"text-align: center;\"> 2003 </td><td style=\"text-align: center;\">    4.0     </td><td style=\"text-align: center;\">   0.0   </td><td style=\"text-align: center;\">    0.0     </td><td style=\"text-align: center;\">    0.0     </td><td style=\"text-align: center;\">    0.0    </td><td style=\"text-align: center;\">   0.0   </td><td style=\"text-align: center;\">  1.0  </td><td style=\"text-align: center;\">     0.0      </td><td style=\"text-align: center;\">  0.0  </td><td style=\"text-align: center;\">   0.0    </td><td style=\"text-align: center;\">   0.0   </td><td style=\"text-align: center;\">   0.0    </td><td style=\"text-align: center;\">   0.0    </td><td style=\"text-align: center;\">   0.0   </td><td style=\"text-align: center;\">    0.0    </td></tr>\\n<tr><td style=\"text-align: center;\">    6874    </td><td style=\"text-align: center;\"> 2003 </td><td style=\"text-align: center;\">    4.0     </td><td style=\"text-align: center;\">   0.0   </td><td style=\"text-align: center;\">    0.0     </td><td style=\"text-align: center;\">    0.0     </td><td style=\"text-align: center;\">    0.0    </td><td style=\"text-align: center;\">   0.0   </td><td style=\"text-align: center;\">  0.0  </td><td style=\"text-align: center;\">     0.0      </td><td style=\"text-align: center;\">  0.0  </td><td style=\"text-align: center;\">   0.0    </td><td style=\"text-align: center;\">   0.0   </td><td style=\"text-align: center;\">   0.0    </td><td style=\"text-align: center;\">   0.0    </td><td style=\"text-align: center;\">   0.0   </td><td style=\"text-align: center;\">    1.0    </td></tr>\\n<tr><td style=\"text-align: center;\">    8798    </td><td style=\"text-align: center;\"> 2004 </td><td style=\"text-align: center;\">    3.8     </td><td style=\"text-align: center;\">   1.0   </td><td style=\"text-align: center;\">    0.0     </td><td style=\"text-align: center;\">    0.0     </td><td style=\"text-align: center;\">    0.0    </td><td style=\"text-align: center;\">   0.0   </td><td style=\"text-align: center;\">  0.0  </td><td style=\"text-align: center;\">     0.0      </td><td style=\"text-align: center;\">  0.0  </td><td style=\"text-align: center;\">   0.0    </td><td style=\"text-align: center;\">   0.0   </td><td style=\"text-align: center;\">   0.0    </td><td style=\"text-align: center;\">   0.0    </td><td style=\"text-align: center;\">   0.0   </td><td style=\"text-align: center;\">    0.0    </td></tr>\\n<tr><td style=\"text-align: center;\">    8798    </td><td style=\"text-align: center;\"> 2004 </td><td style=\"text-align: center;\">    3.8     </td><td style=\"text-align: center;\">   0.0   </td><td style=\"text-align: center;\">    0.0     </td><td style=\"text-align: center;\">    0.0     </td><td style=\"text-align: center;\">    0.0    </td><td style=\"text-align: center;\">   0.0   </td><td style=\"text-align: center;\">  1.0  </td><td style=\"text-align: center;\">     0.0      </td><td style=\"text-align: center;\">  0.0  </td><td style=\"text-align: center;\">   0.0    </td><td style=\"text-align: center;\">   0.0   </td><td style=\"text-align: center;\">   0.0    </td><td style=\"text-align: center;\">   0.0    </td><td style=\"text-align: center;\">   0.0   </td><td style=\"text-align: center;\">    0.0    </td></tr>\\n</tbody>\\n</table>'"
      ]
     },
     "execution_count": 10,
     "metadata": {},
     "output_type": "execute_result"
    }
   ],
   "source": [
    "pprint_train(item_train, item_features, ivs, i_s, maxcount=5, user=True)"
   ]
  },
  {
   "cell_type": "code",
   "execution_count": 11,
   "id": "3552bb1e",
   "metadata": {},
   "outputs": [
    {
     "data": {
      "text/plain": [
       "(58187, 58187, 58187)"
      ]
     },
     "execution_count": 11,
     "metadata": {},
     "output_type": "execute_result"
    }
   ],
   "source": [
    "len(y_train), len(item_train), len(user_train)"
   ]
  },
  {
   "cell_type": "code",
   "execution_count": 12,
   "id": "7f3a685d",
   "metadata": {},
   "outputs": [
    {
     "data": {
      "text/plain": [
       "array([4. , 4. , 4. , 3.5, 3.5, 3.5, 3.5, 4. , 4. , 4. ])"
      ]
     },
     "execution_count": 12,
     "metadata": {},
     "output_type": "execute_result"
    }
   ],
   "source": [
    "y_train[:10]"
   ]
  },
  {
   "cell_type": "code",
   "execution_count": 13,
   "id": "df8eaece",
   "metadata": {},
   "outputs": [
    {
     "name": "stdout",
     "output_type": "stream",
     "text": [
      "True\n",
      "True\n"
     ]
    }
   ],
   "source": [
    "if scaledata:\n",
    "    item_train_save = item_train\n",
    "    user_train_save = user_train\n",
    "    \n",
    "    scalerItem = StandardScaler()\n",
    "    scalerItem.fit(item_train)\n",
    "    item_train = scalerItem.transform(item_train)\n",
    "    \n",
    "    scalerUser = StandardScaler()\n",
    "    scalerUser.fit(user_train)\n",
    "    user_train =scalerUser.transform(user_train)\n",
    "    \n",
    "    print(np.allclose(item_train_save, scalerItem.inverse_transform(item_train)))\n",
    "    print(np.allclose(user_train_save, scalerUser.inverse_transform(user_train)))"
   ]
  },
  {
   "cell_type": "code",
   "execution_count": 14,
   "id": "ac99cb60",
   "metadata": {},
   "outputs": [
    {
     "name": "stdout",
     "output_type": "stream",
     "text": [
      "movie/item training data shape: (46549, 17)\n",
      "movie/item test data shape: (11638, 17)\n"
     ]
    }
   ],
   "source": [
    "item_train, item_test = train_test_split(item_train, train_size=0.80, shuffle=True, random_state=1)\n",
    "user_train, user_test = train_test_split(user_train, train_size=0.80, shuffle=True, random_state=1)\n",
    "y_train, y_test = train_test_split(y_train, train_size=0.80, shuffle=True, random_state=1)\n",
    "\n",
    "print(f\"movie/item training data shape: {item_train.shape}\")\n",
    "print(f\"movie/item test data shape: {item_test.shape}\")"
   ]
  },
  {
   "cell_type": "code",
   "execution_count": 15,
   "id": "4f6eb3df",
   "metadata": {},
   "outputs": [
    {
     "data": {
      "text/html": [
       "<table>\n",
       "<thead>\n",
       "<tr><th style=\"text-align: center;\"> [user id] </th><th style=\"text-align: center;\"> [rating count] </th><th style=\"text-align: center;\"> [rating ave] </th><th style=\"text-align: center;\"> Act ion </th><th style=\"text-align: center;\"> Adve nture </th><th style=\"text-align: center;\"> Anim ation </th><th style=\"text-align: center;\"> Chil dren </th><th style=\"text-align: center;\"> Com edy </th><th style=\"text-align: center;\"> Crime </th><th style=\"text-align: center;\"> Docum entary </th><th style=\"text-align: center;\"> Drama </th><th style=\"text-align: center;\"> Fan tasy </th><th style=\"text-align: center;\"> Hor ror </th><th style=\"text-align: center;\"> Mys tery </th><th style=\"text-align: center;\"> Rom ance </th><th style=\"text-align: center;\"> Sci -Fi </th><th style=\"text-align: center;\"> Thri ller </th></tr>\n",
       "</thead>\n",
       "<tbody>\n",
       "<tr><td style=\"text-align: center;\">     1     </td><td style=\"text-align: center;\">       0        </td><td style=\"text-align: center;\">     0.6      </td><td style=\"text-align: center;\">   0.7   </td><td style=\"text-align: center;\">    0.6     </td><td style=\"text-align: center;\">    0.6     </td><td style=\"text-align: center;\">    0.7    </td><td style=\"text-align: center;\">   0.7   </td><td style=\"text-align: center;\">  0.5  </td><td style=\"text-align: center;\">     0.7      </td><td style=\"text-align: center;\">  0.2  </td><td style=\"text-align: center;\">   0.3    </td><td style=\"text-align: center;\">   0.3   </td><td style=\"text-align: center;\">   0.5    </td><td style=\"text-align: center;\">   0.5    </td><td style=\"text-align: center;\">   0.8   </td><td style=\"text-align: center;\">    0.5    </td></tr>\n",
       "<tr><td style=\"text-align: center;\">     0     </td><td style=\"text-align: center;\">       0        </td><td style=\"text-align: center;\">     1.6      </td><td style=\"text-align: center;\">   1.5   </td><td style=\"text-align: center;\">    1.7     </td><td style=\"text-align: center;\">    0.9     </td><td style=\"text-align: center;\">    1.0    </td><td style=\"text-align: center;\">   1.4   </td><td style=\"text-align: center;\">  0.8  </td><td style=\"text-align: center;\">     -1.2     </td><td style=\"text-align: center;\">  1.2  </td><td style=\"text-align: center;\">   1.2    </td><td style=\"text-align: center;\">   1.6   </td><td style=\"text-align: center;\">   0.9    </td><td style=\"text-align: center;\">   1.4    </td><td style=\"text-align: center;\">   1.2   </td><td style=\"text-align: center;\">    1.0    </td></tr>\n",
       "<tr><td style=\"text-align: center;\">     0     </td><td style=\"text-align: center;\">       0        </td><td style=\"text-align: center;\">     0.8      </td><td style=\"text-align: center;\">   0.6   </td><td style=\"text-align: center;\">    0.7     </td><td style=\"text-align: center;\">    0.5     </td><td style=\"text-align: center;\">    0.6    </td><td style=\"text-align: center;\">   0.6   </td><td style=\"text-align: center;\">  0.3  </td><td style=\"text-align: center;\">     -1.2     </td><td style=\"text-align: center;\">  0.7  </td><td style=\"text-align: center;\">   0.8    </td><td style=\"text-align: center;\">   0.9   </td><td style=\"text-align: center;\">   0.6    </td><td style=\"text-align: center;\">   0.2    </td><td style=\"text-align: center;\">   0.6   </td><td style=\"text-align: center;\">    0.6    </td></tr>\n",
       "<tr><td style=\"text-align: center;\">     1     </td><td style=\"text-align: center;\">       0        </td><td style=\"text-align: center;\">     -0.1     </td><td style=\"text-align: center;\">   0.2   </td><td style=\"text-align: center;\">    -0.1    </td><td style=\"text-align: center;\">    0.3     </td><td style=\"text-align: center;\">    0.7    </td><td style=\"text-align: center;\">   0.3   </td><td style=\"text-align: center;\">  0.2  </td><td style=\"text-align: center;\">     1.0      </td><td style=\"text-align: center;\"> -0.5  </td><td style=\"text-align: center;\">   -0.7   </td><td style=\"text-align: center;\">  -2.1   </td><td style=\"text-align: center;\">   0.5    </td><td style=\"text-align: center;\">   0.7    </td><td style=\"text-align: center;\">   0.3   </td><td style=\"text-align: center;\">    0.0    </td></tr>\n",
       "<tr><td style=\"text-align: center;\">    -1     </td><td style=\"text-align: center;\">       0        </td><td style=\"text-align: center;\">     -1.3     </td><td style=\"text-align: center;\">  -0.8   </td><td style=\"text-align: center;\">    -0.8    </td><td style=\"text-align: center;\">    0.1     </td><td style=\"text-align: center;\">   -0.1    </td><td style=\"text-align: center;\">  -1.1   </td><td style=\"text-align: center;\"> -0.9  </td><td style=\"text-align: center;\">     -1.2     </td><td style=\"text-align: center;\"> -1.5  </td><td style=\"text-align: center;\">   -0.6   </td><td style=\"text-align: center;\">  -0.5   </td><td style=\"text-align: center;\">   -0.6   </td><td style=\"text-align: center;\">   -0.9   </td><td style=\"text-align: center;\">  -0.4   </td><td style=\"text-align: center;\">   -0.9    </td></tr>\n",
       "</tbody>\n",
       "</table>"
      ],
      "text/plain": [
       "'<table>\\n<thead>\\n<tr><th style=\"text-align: center;\"> [user id] </th><th style=\"text-align: center;\"> [rating count] </th><th style=\"text-align: center;\"> [rating ave] </th><th style=\"text-align: center;\"> Act ion </th><th style=\"text-align: center;\"> Adve nture </th><th style=\"text-align: center;\"> Anim ation </th><th style=\"text-align: center;\"> Chil dren </th><th style=\"text-align: center;\"> Com edy </th><th style=\"text-align: center;\"> Crime </th><th style=\"text-align: center;\"> Docum entary </th><th style=\"text-align: center;\"> Drama </th><th style=\"text-align: center;\"> Fan tasy </th><th style=\"text-align: center;\"> Hor ror </th><th style=\"text-align: center;\"> Mys tery </th><th style=\"text-align: center;\"> Rom ance </th><th style=\"text-align: center;\"> Sci -Fi </th><th style=\"text-align: center;\"> Thri ller </th></tr>\\n</thead>\\n<tbody>\\n<tr><td style=\"text-align: center;\">     1     </td><td style=\"text-align: center;\">       0        </td><td style=\"text-align: center;\">     0.6      </td><td style=\"text-align: center;\">   0.7   </td><td style=\"text-align: center;\">    0.6     </td><td style=\"text-align: center;\">    0.6     </td><td style=\"text-align: center;\">    0.7    </td><td style=\"text-align: center;\">   0.7   </td><td style=\"text-align: center;\">  0.5  </td><td style=\"text-align: center;\">     0.7      </td><td style=\"text-align: center;\">  0.2  </td><td style=\"text-align: center;\">   0.3    </td><td style=\"text-align: center;\">   0.3   </td><td style=\"text-align: center;\">   0.5    </td><td style=\"text-align: center;\">   0.5    </td><td style=\"text-align: center;\">   0.8   </td><td style=\"text-align: center;\">    0.5    </td></tr>\\n<tr><td style=\"text-align: center;\">     0     </td><td style=\"text-align: center;\">       0        </td><td style=\"text-align: center;\">     1.6      </td><td style=\"text-align: center;\">   1.5   </td><td style=\"text-align: center;\">    1.7     </td><td style=\"text-align: center;\">    0.9     </td><td style=\"text-align: center;\">    1.0    </td><td style=\"text-align: center;\">   1.4   </td><td style=\"text-align: center;\">  0.8  </td><td style=\"text-align: center;\">     -1.2     </td><td style=\"text-align: center;\">  1.2  </td><td style=\"text-align: center;\">   1.2    </td><td style=\"text-align: center;\">   1.6   </td><td style=\"text-align: center;\">   0.9    </td><td style=\"text-align: center;\">   1.4    </td><td style=\"text-align: center;\">   1.2   </td><td style=\"text-align: center;\">    1.0    </td></tr>\\n<tr><td style=\"text-align: center;\">     0     </td><td style=\"text-align: center;\">       0        </td><td style=\"text-align: center;\">     0.8      </td><td style=\"text-align: center;\">   0.6   </td><td style=\"text-align: center;\">    0.7     </td><td style=\"text-align: center;\">    0.5     </td><td style=\"text-align: center;\">    0.6    </td><td style=\"text-align: center;\">   0.6   </td><td style=\"text-align: center;\">  0.3  </td><td style=\"text-align: center;\">     -1.2     </td><td style=\"text-align: center;\">  0.7  </td><td style=\"text-align: center;\">   0.8    </td><td style=\"text-align: center;\">   0.9   </td><td style=\"text-align: center;\">   0.6    </td><td style=\"text-align: center;\">   0.2    </td><td style=\"text-align: center;\">   0.6   </td><td style=\"text-align: center;\">    0.6    </td></tr>\\n<tr><td style=\"text-align: center;\">     1     </td><td style=\"text-align: center;\">       0        </td><td style=\"text-align: center;\">     -0.1     </td><td style=\"text-align: center;\">   0.2   </td><td style=\"text-align: center;\">    -0.1    </td><td style=\"text-align: center;\">    0.3     </td><td style=\"text-align: center;\">    0.7    </td><td style=\"text-align: center;\">   0.3   </td><td style=\"text-align: center;\">  0.2  </td><td style=\"text-align: center;\">     1.0      </td><td style=\"text-align: center;\"> -0.5  </td><td style=\"text-align: center;\">   -0.7   </td><td style=\"text-align: center;\">  -2.1   </td><td style=\"text-align: center;\">   0.5    </td><td style=\"text-align: center;\">   0.7    </td><td style=\"text-align: center;\">   0.3   </td><td style=\"text-align: center;\">    0.0    </td></tr>\\n<tr><td style=\"text-align: center;\">    -1     </td><td style=\"text-align: center;\">       0        </td><td style=\"text-align: center;\">     -1.3     </td><td style=\"text-align: center;\">  -0.8   </td><td style=\"text-align: center;\">    -0.8    </td><td style=\"text-align: center;\">    0.1     </td><td style=\"text-align: center;\">   -0.1    </td><td style=\"text-align: center;\">  -1.1   </td><td style=\"text-align: center;\"> -0.9  </td><td style=\"text-align: center;\">     -1.2     </td><td style=\"text-align: center;\"> -1.5  </td><td style=\"text-align: center;\">   -0.6   </td><td style=\"text-align: center;\">  -0.5   </td><td style=\"text-align: center;\">   -0.6   </td><td style=\"text-align: center;\">   -0.9   </td><td style=\"text-align: center;\">  -0.4   </td><td style=\"text-align: center;\">   -0.9    </td></tr>\\n</tbody>\\n</table>'"
      ]
     },
     "execution_count": 15,
     "metadata": {},
     "output_type": "execute_result"
    }
   ],
   "source": [
    "pprint_train(user_train, user_features, uvs, u_s, maxcount=5)"
   ]
  },
  {
   "cell_type": "code",
   "execution_count": 16,
   "id": "38af8649",
   "metadata": {},
   "outputs": [
    {
     "name": "stdout",
     "output_type": "stream",
     "text": [
      "(46549, 1) (11638, 1)\n"
     ]
    }
   ],
   "source": [
    "scaler = MinMaxScaler((-1,1))\n",
    "scaler.fit(y_train.reshape(-1,1))\n",
    "ynorm_train = scaler.transform(y_train.reshape(-1,1))\n",
    "ynorm_test = scaler.transform(y_test.reshape(-1,1))\n",
    "print(ynorm_train.shape, ynorm_test.shape)"
   ]
  },
  {
   "cell_type": "code",
   "execution_count": 18,
   "id": "19eb71a2",
   "metadata": {},
   "outputs": [
    {
     "name": "stdout",
     "output_type": "stream",
     "text": [
      "Model: \"model\"\n",
      "__________________________________________________________________________________________________\n",
      " Layer (type)                   Output Shape         Param #     Connected to                     \n",
      "==================================================================================================\n",
      " input_3 (InputLayer)           [(None, 14)]         0           []                               \n",
      "                                                                                                  \n",
      " input_4 (InputLayer)           [(None, 16)]         0           []                               \n",
      "                                                                                                  \n",
      " sequential_2 (Sequential)      (None, 32)           40864       ['input_3[0][0]']                \n",
      "                                                                                                  \n",
      " sequential_3 (Sequential)      (None, 32)           41376       ['input_4[0][0]']                \n",
      "                                                                                                  \n",
      " tf.math.l2_normalize_2 (TFOpLa  (None, 32)          0           ['sequential_2[0][0]']           \n",
      " mbda)                                                                                            \n",
      "                                                                                                  \n",
      " tf.math.l2_normalize_3 (TFOpLa  (None, 32)          0           ['sequential_3[0][0]']           \n",
      " mbda)                                                                                            \n",
      "                                                                                                  \n",
      " dot (Dot)                      (None, 1)            0           ['tf.math.l2_normalize_2[0][0]', \n",
      "                                                                  'tf.math.l2_normalize_3[0][0]'] \n",
      "                                                                                                  \n",
      "==================================================================================================\n",
      "Total params: 82,240\n",
      "Trainable params: 82,240\n",
      "Non-trainable params: 0\n",
      "__________________________________________________________________________________________________\n"
     ]
    }
   ],
   "source": [
    "num_outputs = 32\n",
    "tf.random.set_seed(1)\n",
    "user_NN = tf.keras.models.Sequential([\n",
    "    tf.keras.layers.Dense(256, activation='relu'),\n",
    "    tf.keras.layers.Dense(128, activation='relu'),\n",
    "    tf.keras.layers.Dense(num_outputs, activation='linear')\n",
    "])\n",
    "\n",
    "item_NN = tf.keras.models.Sequential([\n",
    "    tf.keras.layers.Dense(256, activation='relu'),\n",
    "    tf.keras.layers.Dense(128, activation='relu'),\n",
    "    tf.keras.layers.Dense(num_outputs, activation='linear')\n",
    "])\n",
    "\n",
    "input_user = tf.keras.layers.Input(shape=(num_user_features))\n",
    "vu = user_NN(input_user)\n",
    "vu = tf.linalg.l2_normalize(vu, axis=1)\n",
    "\n",
    "input_item = tf.keras.layers.Input(shape=(num_item_features))\n",
    "vm = item_NN(input_item)\n",
    "vm = tf.linalg.l2_normalize(vm, axis=1)\n",
    "\n",
    "output = tf.keras.layers.Dot(axes=1)([vu, vm])\n",
    "\n",
    "model = Model([input_user, input_item], output)\n",
    "\n",
    "model.summary()"
   ]
  },
  {
   "cell_type": "code",
   "execution_count": 19,
   "id": "55e65c11",
   "metadata": {},
   "outputs": [],
   "source": [
    "tf.random.set_seed(1)\n",
    "cost_fn = tf.keras.losses.MeanSquaredError()\n",
    "opt = keras.optimizers.Adam(learning_rate=0.01)\n",
    "model.compile(optimizer=opt,\n",
    "             loss=cost_fn)"
   ]
  },
  {
   "cell_type": "code",
   "execution_count": 20,
   "id": "41a4d97b",
   "metadata": {},
   "outputs": [
    {
     "name": "stdout",
     "output_type": "stream",
     "text": [
      "Epoch 1/30\n"
     ]
    },
    {
     "name": "stderr",
     "output_type": "stream",
     "text": [
      "2022-11-07 18:25:32.271906: W tensorflow/core/platform/profile_utils/cpu_utils.cc:128] Failed to get CPU frequency: 0 Hz\n",
      "2022-11-07 18:25:32.476707: I tensorflow/core/grappler/optimizers/custom_graph_optimizer_registry.cc:114] Plugin optimizer for device_type GPU is enabled.\n"
     ]
    },
    {
     "name": "stdout",
     "output_type": "stream",
     "text": [
      "1455/1455 [==============================] - 9s 5ms/step - loss: 0.1252\n",
      "Epoch 2/30\n",
      "1455/1455 [==============================] - 7s 5ms/step - loss: 0.1183\n",
      "Epoch 3/30\n",
      "1455/1455 [==============================] - 7s 5ms/step - loss: 0.1167\n",
      "Epoch 4/30\n",
      "1455/1455 [==============================] - 7s 5ms/step - loss: 0.1150\n",
      "Epoch 5/30\n",
      "1455/1455 [==============================] - 7s 5ms/step - loss: 0.1138\n",
      "Epoch 6/30\n",
      "1455/1455 [==============================] - 7s 5ms/step - loss: 0.1125\n",
      "Epoch 7/30\n",
      "1455/1455 [==============================] - 7s 5ms/step - loss: 0.1118\n",
      "Epoch 8/30\n",
      "1455/1455 [==============================] - 7s 5ms/step - loss: 0.1110\n",
      "Epoch 9/30\n",
      "1455/1455 [==============================] - 7s 5ms/step - loss: 0.1098\n",
      "Epoch 10/30\n",
      "1455/1455 [==============================] - 7s 5ms/step - loss: 0.1085\n",
      "Epoch 11/30\n",
      "1455/1455 [==============================] - 7s 5ms/step - loss: 0.1072\n",
      "Epoch 12/30\n",
      "1455/1455 [==============================] - 8s 5ms/step - loss: 0.1069\n",
      "Epoch 13/30\n",
      "1455/1455 [==============================] - 8s 5ms/step - loss: 0.1061\n",
      "Epoch 14/30\n",
      "1455/1455 [==============================] - 8s 5ms/step - loss: 0.1055\n",
      "Epoch 15/30\n",
      "1455/1455 [==============================] - 8s 5ms/step - loss: 0.1049\n",
      "Epoch 16/30\n",
      "1455/1455 [==============================] - 8s 5ms/step - loss: 0.1042\n",
      "Epoch 17/30\n",
      "1455/1455 [==============================] - 8s 5ms/step - loss: 0.1037\n",
      "Epoch 18/30\n",
      "1455/1455 [==============================] - 8s 5ms/step - loss: 0.1034\n",
      "Epoch 19/30\n",
      "1455/1455 [==============================] - 8s 5ms/step - loss: 0.1027\n",
      "Epoch 20/30\n",
      "1455/1455 [==============================] - 8s 5ms/step - loss: 0.1022\n",
      "Epoch 21/30\n",
      "1455/1455 [==============================] - 8s 5ms/step - loss: 0.1017\n",
      "Epoch 22/30\n",
      "1455/1455 [==============================] - 7s 5ms/step - loss: 0.1013\n",
      "Epoch 23/30\n",
      "1455/1455 [==============================] - 7s 5ms/step - loss: 0.1008\n",
      "Epoch 24/30\n",
      "1455/1455 [==============================] - 7s 5ms/step - loss: 0.1005\n",
      "Epoch 25/30\n",
      "1455/1455 [==============================] - 8s 5ms/step - loss: 0.1002\n",
      "Epoch 26/30\n",
      "1455/1455 [==============================] - 8s 5ms/step - loss: 0.0996\n",
      "Epoch 27/30\n",
      "1455/1455 [==============================] - 7s 5ms/step - loss: 0.0994\n",
      "Epoch 28/30\n",
      "1455/1455 [==============================] - 8s 5ms/step - loss: 0.0990\n",
      "Epoch 29/30\n",
      "1455/1455 [==============================] - 8s 5ms/step - loss: 0.0985\n",
      "Epoch 30/30\n",
      "1455/1455 [==============================] - 8s 5ms/step - loss: 0.0982\n"
     ]
    },
    {
     "data": {
      "text/plain": [
       "<keras.callbacks.History at 0x16dc02cd0>"
      ]
     },
     "execution_count": 20,
     "metadata": {},
     "output_type": "execute_result"
    }
   ],
   "source": [
    "tf.random.set_seed(1)\n",
    "model.fit([user_train[:,u_s:], item_train[:,i_s:]], ynorm_train, epochs=30)"
   ]
  },
  {
   "cell_type": "code",
   "execution_count": 22,
   "id": "cc28a52b",
   "metadata": {},
   "outputs": [
    {
     "name": "stdout",
     "output_type": "stream",
     "text": [
      " 54/364 [===>..........................] - ETA: 0s - loss: 0.1025"
     ]
    },
    {
     "name": "stderr",
     "output_type": "stream",
     "text": [
      "2022-11-07 18:30:13.679982: I tensorflow/core/grappler/optimizers/custom_graph_optimizer_registry.cc:114] Plugin optimizer for device_type GPU is enabled.\n"
     ]
    },
    {
     "name": "stdout",
     "output_type": "stream",
     "text": [
      "364/364 [==============================] - 1s 3ms/step - loss: 0.1047\n"
     ]
    },
    {
     "data": {
      "text/plain": [
       "0.10468854010105133"
      ]
     },
     "execution_count": 22,
     "metadata": {},
     "output_type": "execute_result"
    }
   ],
   "source": [
    "model.evaluate([user_test[:, u_s:], item_test[:, i_s:]], ynorm_test)"
   ]
  },
  {
   "cell_type": "code",
   "execution_count": 23,
   "id": "1ecc1ab5",
   "metadata": {},
   "outputs": [],
   "source": [
    "new_user_id = 5000\n",
    "new_rating_ave = 1.0\n",
    "new_action = 1.0\n",
    "new_adventure = 1\n",
    "new_animation = 1\n",
    "new_childrens = 1\n",
    "new_comedy = 5\n",
    "new_crime = 1\n",
    "new_documentary = 1\n",
    "new_drama = 1\n",
    "new_fantasy = 1\n",
    "new_horror = 1\n",
    "new_mystery = 1\n",
    "new_romance = 5\n",
    "new_scifi = 5\n",
    "new_thriller = 1\n",
    "new_rating_count = 3\n",
    "\n",
    "user_vec = np.array([[new_user_id, new_rating_count, new_rating_ave,\n",
    "                      new_action, new_adventure, new_animation, new_childrens,\n",
    "                      new_comedy, new_crime, new_documentary,\n",
    "                      new_drama, new_fantasy, new_horror, new_mystery,\n",
    "                      new_romance, new_scifi, new_thriller]])"
   ]
  },
  {
   "cell_type": "code",
   "execution_count": 24,
   "id": "3a905c13",
   "metadata": {},
   "outputs": [
    {
     "data": {
      "text/plain": [
       "(1883, 17)"
      ]
     },
     "execution_count": 24,
     "metadata": {},
     "output_type": "execute_result"
    }
   ],
   "source": [
    "item_vecs.shape"
   ]
  },
  {
   "cell_type": "code",
   "execution_count": 29,
   "id": "a45ab1a7",
   "metadata": {},
   "outputs": [
    {
     "name": "stdout",
     "output_type": "stream",
     "text": [
      "59/59 [==============================] - 0s 2ms/step\n"
     ]
    },
    {
     "name": "stderr",
     "output_type": "stream",
     "text": [
      "2022-11-07 18:55:05.902361: I tensorflow/core/grappler/optimizers/custom_graph_optimizer_registry.cc:114] Plugin optimizer for device_type GPU is enabled.\n"
     ]
    },
    {
     "data": {
      "text/html": [
       "<table>\n",
       "<thead>\n",
       "<tr><th style=\"text-align: right;\">    y_p</th><th style=\"text-align: right;\">  movie id</th><th style=\"text-align: right;\">  rating ave</th><th>title                                 </th><th>genres                             </th></tr>\n",
       "</thead>\n",
       "<tbody>\n",
       "<tr><td style=\"text-align: right;\">4.8349 </td><td style=\"text-align: right;\">      4979</td><td style=\"text-align: right;\">     3.68382</td><td>Royal Tenenbaums, The (2001)          </td><td>Comedy|Drama                       </td></tr>\n",
       "<tr><td style=\"text-align: right;\">4.83162</td><td style=\"text-align: right;\">      5013</td><td style=\"text-align: right;\">     3.7037 </td><td>Gosford Park (2001)                   </td><td>Comedy|Drama|Mystery               </td></tr>\n",
       "<tr><td style=\"text-align: right;\">4.82237</td><td style=\"text-align: right;\">      4246</td><td style=\"text-align: right;\">     3.62308</td><td>Bridget Jones&#x27;s Diary (2001)          </td><td>Comedy|Drama|Romance               </td></tr>\n",
       "<tr><td style=\"text-align: right;\">4.81813</td><td style=\"text-align: right;\">      5110</td><td style=\"text-align: right;\">     3.60417</td><td>Super Troopers (2001)                 </td><td>Comedy|Crime|Mystery               </td></tr>\n",
       "<tr><td style=\"text-align: right;\">4.7963 </td><td style=\"text-align: right;\">      5577</td><td style=\"text-align: right;\">     3.66667</td><td>Igby Goes Down (2002)                 </td><td>Comedy|Drama                       </td></tr>\n",
       "<tr><td style=\"text-align: right;\">4.79527</td><td style=\"text-align: right;\">      5218</td><td style=\"text-align: right;\">     3.68824</td><td>Ice Age (2002)                        </td><td>Adventure|Animation|Children|Comedy</td></tr>\n",
       "<tr><td style=\"text-align: right;\">4.79355</td><td style=\"text-align: right;\">      5673</td><td style=\"text-align: right;\">     3.62121</td><td>Punch-Drunk Love (2002)               </td><td>Comedy|Drama|Romance               </td></tr>\n",
       "<tr><td style=\"text-align: right;\">4.78804</td><td style=\"text-align: right;\">      6003</td><td style=\"text-align: right;\">     3.6    </td><td>Confessions of a Dangerous Mind (2002)</td><td>Comedy|Crime|Drama|Thriller        </td></tr>\n",
       "<tr><td style=\"text-align: right;\">4.78577</td><td style=\"text-align: right;\">      5377</td><td style=\"text-align: right;\">     3.71591</td><td>About a Boy (2002)                    </td><td>Comedy|Drama|Romance               </td></tr>\n",
       "</tbody>\n",
       "</table>"
      ],
      "text/plain": [
       "'<table>\\n<thead>\\n<tr><th style=\"text-align: right;\">    y_p</th><th style=\"text-align: right;\">  movie id</th><th style=\"text-align: right;\">  rating ave</th><th>title                                 </th><th>genres                             </th></tr>\\n</thead>\\n<tbody>\\n<tr><td style=\"text-align: right;\">4.8349 </td><td style=\"text-align: right;\">      4979</td><td style=\"text-align: right;\">     3.68382</td><td>Royal Tenenbaums, The (2001)          </td><td>Comedy|Drama                       </td></tr>\\n<tr><td style=\"text-align: right;\">4.83162</td><td style=\"text-align: right;\">      5013</td><td style=\"text-align: right;\">     3.7037 </td><td>Gosford Park (2001)                   </td><td>Comedy|Drama|Mystery               </td></tr>\\n<tr><td style=\"text-align: right;\">4.82237</td><td style=\"text-align: right;\">      4246</td><td style=\"text-align: right;\">     3.62308</td><td>Bridget Jones&#x27;s Diary (2001)          </td><td>Comedy|Drama|Romance               </td></tr>\\n<tr><td style=\"text-align: right;\">4.81813</td><td style=\"text-align: right;\">      5110</td><td style=\"text-align: right;\">     3.60417</td><td>Super Troopers (2001)                 </td><td>Comedy|Crime|Mystery               </td></tr>\\n<tr><td style=\"text-align: right;\">4.7963 </td><td style=\"text-align: right;\">      5577</td><td style=\"text-align: right;\">     3.66667</td><td>Igby Goes Down (2002)                 </td><td>Comedy|Drama                       </td></tr>\\n<tr><td style=\"text-align: right;\">4.79527</td><td style=\"text-align: right;\">      5218</td><td style=\"text-align: right;\">     3.68824</td><td>Ice Age (2002)                        </td><td>Adventure|Animation|Children|Comedy</td></tr>\\n<tr><td style=\"text-align: right;\">4.79355</td><td style=\"text-align: right;\">      5673</td><td style=\"text-align: right;\">     3.62121</td><td>Punch-Drunk Love (2002)               </td><td>Comedy|Drama|Romance               </td></tr>\\n<tr><td style=\"text-align: right;\">4.78804</td><td style=\"text-align: right;\">      6003</td><td style=\"text-align: right;\">     3.6    </td><td>Confessions of a Dangerous Mind (2002)</td><td>Comedy|Crime|Drama|Thriller        </td></tr>\\n<tr><td style=\"text-align: right;\">4.78577</td><td style=\"text-align: right;\">      5377</td><td style=\"text-align: right;\">     3.71591</td><td>About a Boy (2002)                    </td><td>Comedy|Drama|Romance               </td></tr>\\n</tbody>\\n</table>'"
      ]
     },
     "execution_count": 29,
     "metadata": {},
     "output_type": "execute_result"
    }
   ],
   "source": [
    "user_vecs = gen_user_vecs(user_vec, len(item_vecs))\n",
    "sorted_index, sorted_ypu, sorted_items, sorted_user = predict_uservec(user_vecs,\n",
    "                                        item_vecs, model, u_s, i_s, scaler,\n",
    "                                        scalerUser, scalerItem, scaledata=scaledata)\n",
    "print_pred_movies(sorted_ypu, sorted_user, sorted_items, movie_dict,\n",
    "                 maxcount=10)"
   ]
  },
  {
   "cell_type": "code",
   "execution_count": 32,
   "id": "4d1012fc",
   "metadata": {},
   "outputs": [
    {
     "name": "stdout",
     "output_type": "stream",
     "text": [
      "59/59 [==============================] - 0s 3ms/step\n"
     ]
    },
    {
     "data": {
      "text/html": [
       "<table>\n",
       "<thead>\n",
       "<tr><th style=\"text-align: right;\">  y_p</th><th style=\"text-align: right;\">  y</th><th style=\"text-align: right;\">  user</th><th style=\"text-align: right;\">  user genre ave</th><th style=\"text-align: right;\">  movie rating ave</th><th>title                   </th><th>genres   </th></tr>\n",
       "</thead>\n",
       "<tbody>\n",
       "<tr><td style=\"text-align: right;\">  3.2</td><td style=\"text-align: right;\">3.0</td><td style=\"text-align: right;\">    36</td><td style=\"text-align: right;\">            3.00</td><td style=\"text-align: right;\">              2.86</td><td>Time Machine, The (2002)</td><td>Adventure</td></tr>\n",
       "<tr><td style=\"text-align: right;\">  3.1</td><td style=\"text-align: right;\">3.0</td><td style=\"text-align: right;\">    36</td><td style=\"text-align: right;\">            3.00</td><td style=\"text-align: right;\">              2.86</td><td>Time Machine, The (2002)</td><td>Action   </td></tr>\n",
       "<tr><td style=\"text-align: right;\">  2.9</td><td style=\"text-align: right;\">3.0</td><td style=\"text-align: right;\">    36</td><td style=\"text-align: right;\">            3.00</td><td style=\"text-align: right;\">              2.86</td><td>Time Machine, The (2002)</td><td>Sci-Fi   </td></tr>\n",
       "<tr><td style=\"text-align: right;\">  2.0</td><td style=\"text-align: right;\">1.5</td><td style=\"text-align: right;\">    36</td><td style=\"text-align: right;\">            1.75</td><td style=\"text-align: right;\">              3.52</td><td>Road to Perdition (2002)</td><td>Crime    </td></tr>\n",
       "<tr><td style=\"text-align: right;\">  2.0</td><td style=\"text-align: right;\">2.0</td><td style=\"text-align: right;\">    36</td><td style=\"text-align: right;\">            1.75</td><td style=\"text-align: right;\">              3.52</td><td>Gangs of New York (2002)</td><td>Crime    </td></tr>\n",
       "<tr><td style=\"text-align: right;\">  1.9</td><td style=\"text-align: right;\">1.0</td><td style=\"text-align: right;\">    36</td><td style=\"text-align: right;\">            1.50</td><td style=\"text-align: right;\">              4.00</td><td>Beautiful Mind, A (2001)</td><td>Drama    </td></tr>\n",
       "<tr><td style=\"text-align: right;\">  1.9</td><td style=\"text-align: right;\">1.0</td><td style=\"text-align: right;\">    36</td><td style=\"text-align: right;\">            1.00</td><td style=\"text-align: right;\">              4.00</td><td>Beautiful Mind, A (2001)</td><td>Romance  </td></tr>\n",
       "<tr><td style=\"text-align: right;\">  1.8</td><td style=\"text-align: right;\">2.0</td><td style=\"text-align: right;\">    36</td><td style=\"text-align: right;\">            1.50</td><td style=\"text-align: right;\">              3.52</td><td>Gangs of New York (2002)</td><td>Drama    </td></tr>\n",
       "<tr><td style=\"text-align: right;\">  1.8</td><td style=\"text-align: right;\">1.5</td><td style=\"text-align: right;\">    36</td><td style=\"text-align: right;\">            1.50</td><td style=\"text-align: right;\">              3.52</td><td>Road to Perdition (2002)</td><td>Drama    </td></tr>\n",
       "</tbody>\n",
       "</table>"
      ],
      "text/plain": [
       "'<table>\\n<thead>\\n<tr><th style=\"text-align: right;\">  y_p</th><th style=\"text-align: right;\">  y</th><th style=\"text-align: right;\">  user</th><th style=\"text-align: right;\">  user genre ave</th><th style=\"text-align: right;\">  movie rating ave</th><th>title                   </th><th>genres   </th></tr>\\n</thead>\\n<tbody>\\n<tr><td style=\"text-align: right;\">  3.2</td><td style=\"text-align: right;\">3.0</td><td style=\"text-align: right;\">    36</td><td style=\"text-align: right;\">            3.00</td><td style=\"text-align: right;\">              2.86</td><td>Time Machine, The (2002)</td><td>Adventure</td></tr>\\n<tr><td style=\"text-align: right;\">  3.1</td><td style=\"text-align: right;\">3.0</td><td style=\"text-align: right;\">    36</td><td style=\"text-align: right;\">            3.00</td><td style=\"text-align: right;\">              2.86</td><td>Time Machine, The (2002)</td><td>Action   </td></tr>\\n<tr><td style=\"text-align: right;\">  2.9</td><td style=\"text-align: right;\">3.0</td><td style=\"text-align: right;\">    36</td><td style=\"text-align: right;\">            3.00</td><td style=\"text-align: right;\">              2.86</td><td>Time Machine, The (2002)</td><td>Sci-Fi   </td></tr>\\n<tr><td style=\"text-align: right;\">  2.0</td><td style=\"text-align: right;\">1.5</td><td style=\"text-align: right;\">    36</td><td style=\"text-align: right;\">            1.75</td><td style=\"text-align: right;\">              3.52</td><td>Road to Perdition (2002)</td><td>Crime    </td></tr>\\n<tr><td style=\"text-align: right;\">  2.0</td><td style=\"text-align: right;\">2.0</td><td style=\"text-align: right;\">    36</td><td style=\"text-align: right;\">            1.75</td><td style=\"text-align: right;\">              3.52</td><td>Gangs of New York (2002)</td><td>Crime    </td></tr>\\n<tr><td style=\"text-align: right;\">  1.9</td><td style=\"text-align: right;\">1.0</td><td style=\"text-align: right;\">    36</td><td style=\"text-align: right;\">            1.50</td><td style=\"text-align: right;\">              4.00</td><td>Beautiful Mind, A (2001)</td><td>Drama    </td></tr>\\n<tr><td style=\"text-align: right;\">  1.9</td><td style=\"text-align: right;\">1.0</td><td style=\"text-align: right;\">    36</td><td style=\"text-align: right;\">            1.00</td><td style=\"text-align: right;\">              4.00</td><td>Beautiful Mind, A (2001)</td><td>Romance  </td></tr>\\n<tr><td style=\"text-align: right;\">  1.8</td><td style=\"text-align: right;\">2.0</td><td style=\"text-align: right;\">    36</td><td style=\"text-align: right;\">            1.50</td><td style=\"text-align: right;\">              3.52</td><td>Gangs of New York (2002)</td><td>Drama    </td></tr>\\n<tr><td style=\"text-align: right;\">  1.8</td><td style=\"text-align: right;\">1.5</td><td style=\"text-align: right;\">    36</td><td style=\"text-align: right;\">            1.50</td><td style=\"text-align: right;\">              3.52</td><td>Road to Perdition (2002)</td><td>Drama    </td></tr>\\n</tbody>\\n</table>'"
      ]
     },
     "execution_count": 32,
     "metadata": {},
     "output_type": "execute_result"
    }
   ],
   "source": [
    "uid = 36\n",
    "user_vecs, y_vecs = get_user_vecs(uid, scalerUser.inverse_transform(user_train),\n",
    "                                item_vecs, user_to_genre)\n",
    "sorted_index, sorted_ypu, sorted_items, sorted_user = predict_uservec(\n",
    "            user_vecs, item_vecs, model, u_s, i_s, scaler, scalerUser,\n",
    "            scalerItem, scaledata=scaledata)\n",
    "sorted_y = y_vecs[sorted_index]\n",
    "\n",
    "print_existing_user(sorted_ypu, sorted_y.reshape(-1,1), sorted_user,\n",
    "                   sorted_items, item_features, ivs, uvs, movie_dict,\n",
    "                   maxcount=10)"
   ]
  },
  {
   "cell_type": "code",
   "execution_count": 33,
   "id": "1b0f7982",
   "metadata": {},
   "outputs": [],
   "source": [
    "def sq_dist(a, b):\n",
    "    return np.sum((a - b)**2)"
   ]
  },
  {
   "cell_type": "code",
   "execution_count": 35,
   "id": "13e8e699",
   "metadata": {},
   "outputs": [
    {
     "name": "stdout",
     "output_type": "stream",
     "text": [
      "\u001b[92mAll tests passed!\n"
     ]
    }
   ],
   "source": [
    "from public_tests import *\n",
    "test_sq_dist(sq_dist)"
   ]
  },
  {
   "cell_type": "code",
   "execution_count": 36,
   "id": "5de41e9e",
   "metadata": {},
   "outputs": [
    {
     "name": "stdout",
     "output_type": "stream",
     "text": [
      "squared distance between a1 and b1: 0.0\n",
      "squared distance between a2 and b2: 0.030000000000000054\n",
      "squared distance between a3 and b3: 2\n"
     ]
    }
   ],
   "source": [
    "a1 = np.array([1.0, 2.0, 3.0]); b1 = np.array([1.0, 2.0, 3.0])\n",
    "a2 = np.array([1.1, 2.1, 3.1]); b2 = np.array([1.0, 2.0, 3.0])\n",
    "a3 = np.array([0, 1, 0]);       b3 = np.array([1, 0, 0])\n",
    "print(f\"squared distance between a1 and b1: {sq_dist(a1, b1)}\")\n",
    "print(f\"squared distance between a2 and b2: {sq_dist(a2, b2)}\")\n",
    "print(f\"squared distance between a3 and b3: {sq_dist(a3, b3)}\")"
   ]
  },
  {
   "cell_type": "code",
   "execution_count": 37,
   "id": "7f3b22b4",
   "metadata": {},
   "outputs": [
    {
     "name": "stdout",
     "output_type": "stream",
     "text": [
      "Model: \"model_1\"\n",
      "_________________________________________________________________\n",
      " Layer (type)                Output Shape              Param #   \n",
      "=================================================================\n",
      " input_5 (InputLayer)        [(None, 16)]              0         \n",
      "                                                                 \n",
      " sequential_3 (Sequential)   (None, 32)                41376     \n",
      "                                                                 \n",
      " tf.math.l2_normalize_4 (TFO  (None, 32)               0         \n",
      " pLambda)                                                        \n",
      "                                                                 \n",
      "=================================================================\n",
      "Total params: 41,376\n",
      "Trainable params: 41,376\n",
      "Non-trainable params: 0\n",
      "_________________________________________________________________\n"
     ]
    }
   ],
   "source": [
    "input_item_m = tf.keras.layers.Input(shape=(num_item_features))\n",
    "vm_m = item_NN(input_item_m)\n",
    "vm_m = tf.linalg.l2_normalize(vm_m, axis=1)\n",
    "model_m = Model(input_item_m, vm_m)\n",
    "model_m.summary()"
   ]
  },
  {
   "cell_type": "code",
   "execution_count": 38,
   "id": "a7cbd99f",
   "metadata": {},
   "outputs": [
    {
     "name": "stdout",
     "output_type": "stream",
     "text": [
      "59/59 [==============================] - 0s 1ms/step\n",
      "size of all predicted movie feature vectors: (1883, 32)\n"
     ]
    },
    {
     "name": "stderr",
     "output_type": "stream",
     "text": [
      "2022-11-07 23:07:29.822898: I tensorflow/core/grappler/optimizers/custom_graph_optimizer_registry.cc:114] Plugin optimizer for device_type GPU is enabled.\n"
     ]
    }
   ],
   "source": [
    "scaled_item_vecs = scalerItem.transform(item_vecs)\n",
    "vms = model_m.predict(scaled_item_vecs[:,i_s:])\n",
    "print(f\"size of all predicted movie feature vectors: {vms.shape}\")"
   ]
  },
  {
   "cell_type": "code",
   "execution_count": null,
   "id": "6989c081",
   "metadata": {},
   "outputs": [],
   "source": []
  }
 ],
 "metadata": {
  "kernelspec": {
   "display_name": "Python 3.9 (tensorflow)",
   "language": "python",
   "name": "tensorflow"
  },
  "language_info": {
   "codemirror_mode": {
    "name": "ipython",
    "version": 3
   },
   "file_extension": ".py",
   "mimetype": "text/x-python",
   "name": "python",
   "nbconvert_exporter": "python",
   "pygments_lexer": "ipython3",
   "version": "3.9.13"
  }
 },
 "nbformat": 4,
 "nbformat_minor": 5
}
