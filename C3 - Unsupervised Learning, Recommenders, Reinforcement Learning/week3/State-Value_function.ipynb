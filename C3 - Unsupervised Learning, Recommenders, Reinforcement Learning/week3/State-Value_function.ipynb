{
 "cells": [
  {
   "cell_type": "markdown",
   "id": "9ddb5646",
   "metadata": {},
   "source": [
    "# State Action Value Function Example\n",
    "\n",
    "In this Jupyter notebook, you can modify the mars rover example to see how the values of Q(s,a) will change depending on the rewards and discount factor changing."
   ]
  },
  {
   "cell_type": "code",
   "execution_count": 1,
   "id": "4bc52526",
   "metadata": {},
   "outputs": [
    {
     "name": "stdout",
     "output_type": "stream",
     "text": [
      "Requirement already satisfied: imageio in /Users/imcheung/opt/miniconda3/lib/python3.9/site-packages (2.22.4)\n",
      "Requirement already satisfied: pillow>=8.3.2 in /Users/imcheung/opt/miniconda3/lib/python3.9/site-packages (from imageio) (9.2.0)\n",
      "Requirement already satisfied: numpy in /Users/imcheung/opt/miniconda3/lib/python3.9/site-packages (from imageio) (1.21.5)\n",
      "Note: you may need to restart the kernel to use updated packages.\n",
      "Collecting statsmodels\n",
      "  Using cached statsmodels-0.13.5-cp39-cp39-macosx_11_0_arm64.whl (9.2 MB)\n",
      "Requirement already satisfied: packaging>=21.3 in /Users/imcheung/opt/miniconda3/lib/python3.9/site-packages (from statsmodels) (21.3)\n",
      "Collecting patsy>=0.5.2\n",
      "  Using cached patsy-0.5.3-py2.py3-none-any.whl (233 kB)\n",
      "Collecting scipy>=1.3\n",
      "  Downloading scipy-1.9.3-cp39-cp39-macosx_12_0_arm64.whl (28.6 MB)\n",
      "\u001b[K     |████████████████████████████████| 28.6 MB 9.2 MB/s eta 0:00:01\n",
      "\u001b[?25hCollecting pandas>=0.25\n",
      "  Downloading pandas-1.5.1-cp39-cp39-macosx_11_0_arm64.whl (10.9 MB)\n",
      "\u001b[K     |████████████████████████████████| 10.9 MB 6.6 MB/s eta 0:00:01\n",
      "\u001b[?25hRequirement already satisfied: numpy>=1.17 in /Users/imcheung/opt/miniconda3/lib/python3.9/site-packages (from statsmodels) (1.21.5)\n",
      "Requirement already satisfied: pyparsing!=3.0.5,>=2.0.2 in /Users/imcheung/opt/miniconda3/lib/python3.9/site-packages (from packaging>=21.3->statsmodels) (3.0.9)\n",
      "Requirement already satisfied: pytz>=2020.1 in /Users/imcheung/opt/miniconda3/lib/python3.9/site-packages (from pandas>=0.25->statsmodels) (2022.1)\n",
      "Requirement already satisfied: python-dateutil>=2.8.1 in /Users/imcheung/opt/miniconda3/lib/python3.9/site-packages (from pandas>=0.25->statsmodels) (2.8.2)\n",
      "Requirement already satisfied: six in /Users/imcheung/opt/miniconda3/lib/python3.9/site-packages (from patsy>=0.5.2->statsmodels) (1.16.0)\n",
      "Installing collected packages: scipy, patsy, pandas, statsmodels\n",
      "Successfully installed pandas-1.5.1 patsy-0.5.3 scipy-1.9.3 statsmodels-0.13.5\n",
      "Note: you may need to restart the kernel to use updated packages.\n"
     ]
    }
   ],
   "source": [
    "%pip install imageio\n",
    "%pip install statsmodels"
   ]
  },
  {
   "cell_type": "code",
   "execution_count": 1,
   "id": "b3d8eaa1",
   "metadata": {},
   "outputs": [],
   "source": [
    "import numpy as np\n",
    "from utils import *"
   ]
  },
  {
   "cell_type": "code",
   "execution_count": 2,
   "id": "f35acc53",
   "metadata": {},
   "outputs": [],
   "source": [
    "# Do not modify\n",
    "num_states = 6\n",
    "num_actions = 2"
   ]
  },
  {
   "cell_type": "code",
   "execution_count": 3,
   "id": "2e0bd5b3",
   "metadata": {},
   "outputs": [],
   "source": [
    "terminal_left_reward = 100\n",
    "terminal_right_reward = 40\n",
    "each_step_reward = 0\n",
    "\n",
    "# Discount factor\n",
    "gamma = 0.5\n",
    "\n",
    "# Probability of going in the wrong direction\n",
    "misstep_prob = 0.4"
   ]
  },
  {
   "cell_type": "code",
   "execution_count": 4,
   "id": "ef6c3551",
   "metadata": {},
   "outputs": [
    {
     "ename": "NameError",
     "evalue": "name 'generate_visualization' is not defined",
     "output_type": "error",
     "traceback": [
      "\u001b[0;31m---------------------------------------------------------------------------\u001b[0m",
      "\u001b[0;31mNameError\u001b[0m                                 Traceback (most recent call last)",
      "Cell \u001b[0;32mIn [4], line 1\u001b[0m\n\u001b[0;32m----> 1\u001b[0m \u001b[43mgenerate_visualization\u001b[49m(terminal_left_reward, terminal_right_reward, each_step_reward, gamma, misstep_prob)\n",
      "\u001b[0;31mNameError\u001b[0m: name 'generate_visualization' is not defined"
     ]
    }
   ],
   "source": [
    "generate_visualization(terminal_left_reward, terminal_right_reward, each_step_reward, gamma, misstep_prob)"
   ]
  },
  {
   "cell_type": "code",
   "execution_count": null,
   "id": "310a7789",
   "metadata": {},
   "outputs": [],
   "source": []
  }
 ],
 "metadata": {
  "kernelspec": {
   "display_name": "Python 3.9 (tensorflow)",
   "language": "python",
   "name": "tensorflow"
  },
  "language_info": {
   "codemirror_mode": {
    "name": "ipython",
    "version": 3
   },
   "file_extension": ".py",
   "mimetype": "text/x-python",
   "name": "python",
   "nbconvert_exporter": "python",
   "pygments_lexer": "ipython3",
   "version": "3.9.13"
  }
 },
 "nbformat": 4,
 "nbformat_minor": 5
}
